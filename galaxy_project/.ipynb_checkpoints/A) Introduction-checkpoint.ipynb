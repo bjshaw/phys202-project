{
 "cells": [
  {
   "cell_type": "markdown",
   "metadata": {},
   "source": [
    "# Abstract"
   ]
  },
  {
   "cell_type": "markdown",
   "metadata": {},
   "source": [
    "This project's core subject on the behaviors of two galaxies as they orbit eachother on a collision path.  More specifically, it focuses on the behavior of the stars orbiting one galactic core, the main galaxy, as another galaxy comes into close proximity to it, the disrupting galaxy.  The main question that I will attempt to answer in this project is how do the disrupting galaxy and the stars of the main galaxy behave when the disrupting galaxy approaches on a retrograde orbit?  To answer this question, which will also serve to replicate one of the results of Toomre and Toomre's 1972 paper, Galactic Bridges and Tails, I will have to implement my knowledge of the programming language, Python.  The general approach to this problem will be to calculate the initial conditions of my system, then to solve the differential equations determining the behavior of the system, and finally to visualize this behavior by plotting the positions of the bodies in my system.  In addition to answering this base question, I will also attempt to answer other quesitons such as how does the behavior of the system change when the masses of the galactic cores differ"
   ]
  },
  {
   "cell_type": "markdown",
   "metadata": {
    "collapsed": true
   },
   "source": [
    "# Notebooks"
   ]
  },
  {
   "cell_type": "markdown",
   "metadata": {},
   "source": [
    "#####What follows is a short description of the notebooks contained in the project:"
   ]
  },
  {
   "cell_type": "markdown",
   "metadata": {},
   "source": [
    "B) Questions : describes the questions that I will explore throughout this project\n",
    "\n",
    "C) Units : describes the units that I will use in calculations and what value of constants I will use\n",
    "\n",
    "D) Initial Velocitites : code for calculating the initial velocities of the stars and disrupting galaxy\n",
    "\n",
    "E) DE solver : code that solves the differential equations given that dictate the behavior of the system\n",
    "\n",
    "F) Plotting function : code that plots the positions of the bodies in the system in a variety of ways\n",
    "\n",
    "G) Two star Test : a simple two star test to make sure that my code actually runs\n",
    "\n",
    "H) Animator : code that serves to create animations for all my cases that can then be uploaded to YouTube\n",
    "\n",
    "I) Base Question : implementation and visualization of my base question\n",
    "\n",
    "J) Additional Question 1: implementation and visualization of my first additional question\n",
    "\n",
    "K) Additional Question 2: implementation and visualization of my second additional question \n",
    "\n",
    "L) Conclusion : short conclusion wrapping everything up"
   ]
  },
  {
   "cell_type": "code",
   "execution_count": null,
   "metadata": {
    "collapsed": true
   },
   "outputs": [],
   "source": []
  }
 ],
 "metadata": {
  "kernelspec": {
   "display_name": "Python 3",
   "language": "python",
   "name": "python3"
  },
  "language_info": {
   "codemirror_mode": {
    "name": "ipython",
    "version": 3
   },
   "file_extension": ".py",
   "mimetype": "text/x-python",
   "name": "python",
   "nbconvert_exporter": "python",
   "pygments_lexer": "ipython3",
   "version": "3.4.0"
  }
 },
 "nbformat": 4,
 "nbformat_minor": 0
}
