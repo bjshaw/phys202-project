{
 "cells": [
  {
   "cell_type": "markdown",
   "metadata": {},
   "source": [
    "#Initial Velocities"
   ]
  },
  {
   "cell_type": "code",
   "execution_count": 1,
   "metadata": {
    "collapsed": false
   },
   "outputs": [],
   "source": [
    "%matplotlib inline\n",
    "import matplotlib.pyplot as plt\n",
    "import numpy as np"
   ]
  },
  {
   "cell_type": "code",
   "execution_count": 2,
   "metadata": {
    "collapsed": true
   },
   "outputs": [],
   "source": [
    "gamma = 4.4983169634398596e-06"
   ]
  },
  {
   "cell_type": "markdown",
   "metadata": {},
   "source": [
    "###Initial velocity for stars"
   ]
  },
  {
   "cell_type": "markdown",
   "metadata": {},
   "source": [
    "Defining a function that would determine my initial velocities of  my star, $m$"
   ]
  },
  {
   "cell_type": "markdown",
   "metadata": {},
   "source": [
    "The star's path is of circular nature, and can be explained with the equation for a circle centered at the origin: $x^{2}+y^2{2}=R^{2}$\n",
    "\n",
    "Solving for $x$ gives: $x=\\sqrt{R^{2}-y^{2}}$"
   ]
  },
  {
   "cell_type": "markdown",
   "metadata": {},
   "source": [
    "The slope is then the derivative of this function:\n",
    "\n",
    "$\\frac{dx}{dy}=\\text{-}y(R^{2}-y^{2})^{-\\frac{1}{2}}$\n",
    "\n",
    "This slope will serve to find the angle to split the magnitude of the velocity into $x$ and $y$ components"
   ]
  },
  {
   "cell_type": "markdown",
   "metadata": {},
   "source": [
    "The star's initial velocity magnitude is determined by the equation for the velocity pertaining to a circular obrit:\n",
    "\\begin{equation*}\n",
    "v = \\sqrt{\\frac{GM}{r}}\n",
    "\\end{equation*}\n",
    "where $G$ is the gravitational constant, $M$ is the mass of the object orbited around, and $r$ is the distance from $m$ to $M$."
   ]
  },
  {
   "cell_type": "code",
   "execution_count": 3,
   "metadata": {
    "collapsed": true
   },
   "outputs": [],
   "source": [
    "def velocities_m(M,x,y):\n",
    "    \"\"\"Computes the velocities in the x and y direction of a star, m\n",
    "    \n",
    "    Parameters\n",
    "    -------------\n",
    "    M : central mass of main galaxy\n",
    "    x : position of star in x-direction\n",
    "    y : position of star in y-direction\n",
    "    \n",
    "    Returns\n",
    "    ------------\n",
    "    vx : velocity of star in x-direction\n",
    "    vy : velocity of star in y-direction\n",
    "    \n",
    "    \"\"\"\n",
    "    rb = np.sqrt(x**2+y**2)\n",
    "    v = np.sqrt((gamma*M)/rb)\n",
    "    \n",
    "    if x > 1e-5 or x < -1e-5:\n",
    "        dx_dy = -y*((rb**2-y**2)**-0.5)\n",
    "    else:\n",
    "        dx_dy = 0\n",
    "    \n",
    "    if x < -1e-5 and y > 0 or x > 1e-5 and y < 0:\n",
    "        theta = np.arctan(abs(dx_dy))\n",
    "    elif x < -1e-5 and y < 0 or x > 1e-5 and y > 0:\n",
    "        theta = np.arctan(abs(1/dx_dy))\n",
    "    else:\n",
    "        theta = 0\n",
    "        \n",
    "    if x < 0 and y > 0:\n",
    "        vx = -v*np.sin(theta)\n",
    "        vy = -v*np.cos(theta)\n",
    "    elif x < 0 and y < 0:\n",
    "        vx = v*np.cos(theta)\n",
    "        vy = -v*np.sin(theta)\n",
    "    elif x > 0 and y < 0:\n",
    "        vx = v*np.sin(theta)\n",
    "        vy = v*np.cos(theta)\n",
    "    elif x > 0 and y > 0:\n",
    "        vx = -v*np.cos(theta)\n",
    "        vy = v*np.sin(theta)\n",
    "    elif x == 0 and y > 0:\n",
    "        vx = -v\n",
    "        vy = 0\n",
    "    elif x == 0 and y < 0:\n",
    "        vx = v\n",
    "        vy = 0\n",
    "    elif x < 0 and y == 0:\n",
    "        vx = 0\n",
    "        vy = -v\n",
    "    elif x > 0 and y == 0:\n",
    "        vx = 0\n",
    "        vy = v\n",
    "    return vx,vy"
   ]
  },
  {
   "cell_type": "markdown",
   "metadata": {},
   "source": [
    "##Initial velocity for disrupting galaxy"
   ]
  },
  {
   "cell_type": "markdown",
   "metadata": {},
   "source": [
    "Next, I define a function to compute the initial velocities of the disrupting galaxy, $S$"
   ]
  },
  {
   "cell_type": "markdown",
   "metadata": {},
   "source": [
    "The disrupting galaxy S, follows a parabolic path around the main galaxy, $M$"
   ]
  },
  {
   "cell_type": "markdown",
   "metadata": {},
   "source": [
    "The equation determining the shape of the parabola that $S$ will follow around M is: $x=-ay^{2}+by+c$\n",
    "\n",
    "where $a=\\frac{1}{4p}$, $b=\\frac{-k}{2p}$, and $c=\\frac{k^2}{4p}+h$\n",
    "\n",
    "k,h, and p are as follows, where p is the distance from the vertex, (h,k), to the origin"
   ]
  },
  {
   "cell_type": "code",
   "execution_count": 5,
   "metadata": {
    "collapsed": false,
    "scrolled": true
   },
   "outputs": [
    {
     "data": {
      "image/png": "[encoded data removed]",
      "text/plain": [
       "<matplotlib.figure.Figure at 0x7fc4ad456320>"
      ]
     },
     "metadata": {},
     "output_type": "display_data"
    }
   ],
   "source": [
    "y = np.linspace(-150,150,100)\n",
    "plt.plot(-.01*y**2+25,y)\n",
    "plt.scatter(0,0,color='y',label='origin')\n",
    "plt.scatter(25,0,color='g',label='(h,k)')\n",
    "plt.legend()\n",
    "plt.ylim(-60,60)\n",
    "plt.xlim(-25,35);"
   ]
  },
  {
   "cell_type": "markdown",
   "metadata": {},
   "source": [
    "Assuming galaxy $M$'s frame of reference, $M$ is at the origin and $S$ follows the parabolic path around $M$\n",
    "\n",
    "In this case then, $k=0$ and $h=p$, and $p$ is given in the original paper($25 \\hspace{1 mm} kpc$), so the equation for the shape of the parabola that $S$ will follow simplifies to:\n",
    "\n",
    "$x=\\text{-}\\frac{1}{4p}y^{2}+p$, which gives an easy way to figure out initial positions for galaxy S"
   ]
  },
  {
   "cell_type": "markdown",
   "metadata": {},
   "source": [
    "The slope is then the derivative of this function:\n",
    "\n",
    "$\\frac{dx}{dy}=\\text{-}\\frac{y}{2p}$\n",
    "\n",
    "This slope will serve to find the angle to split the magnitude of the velocity into $x$ and $y$ components"
   ]
  },
  {
   "cell_type": "markdown",
   "metadata": {},
   "source": [
    "The magnitude of the velocity is determined by the equation pertaining to a parabolic orbit\n",
    "\n",
    "$v = \\sqrt{\\frac{2\\mu}{r}}$\n",
    "\n",
    "where $\\mu$ is the standard graitational parameter, $GM+GS$, and $r$ is the distance between the galaxies."
   ]
  },
  {
   "cell_type": "code",
   "execution_count": 6,
   "metadata": {
    "collapsed": false
   },
   "outputs": [],
   "source": [
    "def velocities_S(M,S,x,y):\n",
    "    \"\"\"Computes the velocities in the x and y direction of a disrupting galaxy, S, following a parabolic orbit\n",
    "    Parameters\n",
    "    --------------\n",
    "    M : mass of main galaxy\n",
    "    S : mass of disrupting galaxy\n",
    "    x : position of S in x-direction\n",
    "    y : position of S in y-direction\n",
    "    \n",
    "    Returns\n",
    "    --------------\n",
    "    vx : velocity of S in x-direction\n",
    "    vy : velocity of S in y-direction\n",
    "    \"\"\"\n",
    "    Rb = np.sqrt(x**2+y**2)\n",
    "    v = np.sqrt((2*gamma*(M+S))/(Rb))\n",
    "    dx_dy = (-y/50) \n",
    "    theta = np.arctan(abs(1/dx_dy))\n",
    "    if y > 0:\n",
    "        vx = v*np.cos(theta)\n",
    "        vy = -v*np.sin(theta)\n",
    "    elif y < 0:\n",
    "        vx = v*np.cos(theta)\n",
    "        vy = v*np.sin(theta)\n",
    "    return vx,vy"
   ]
  }
 ],
 "metadata": {
  "kernelspec": {
   "display_name": "Python 3",
   "language": "python",
   "name": "python3"
  },
  "language_info": {
   "codemirror_mode": {
    "name": "ipython",
    "version": 3
   },
   "file_extension": ".py",
   "mimetype": "text/x-python",
   "name": "python",
   "nbconvert_exporter": "python",
   "pygments_lexer": "ipython3",
   "version": "3.4.0"
  }
 },
 "nbformat": 4,
 "nbformat_minor": 0
}
