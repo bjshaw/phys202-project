{
 "cells": [
  {
   "cell_type": "markdown",
   "metadata": {},
   "source": [
    "## Base Question"
   ]
  },
  {
   "cell_type": "markdown",
   "metadata": {},
   "source": [
    "Considering a system made up of a main galaxy, a disrupting galaxy, and stars orbiting the main galaxy, the base question that I will attempt to answer in this project is how do the bodies in this system behave when the disrupting galaxy orbits the main galaxy in a retrograde fashion.   That is, what happens when the disrupting galaxy orbits the main galaxy in the opposite direction that the stars orbit the main galaxy?  This question will also serve to replicate a result from Toomre and Toomre's 1972 paper Galactic Bridges and Tails, in which Toomre and Toomre show the behavior of the system in the retrograde case.  Answering this question will also verify that the code I write is working as expected, so that I may move on to exploring different initial conditions for the system."
   ]
  },
  {
   "cell_type": "markdown",
   "metadata": {},
   "source": [
    "## Additional Questions"
   ]
  },
  {
   "cell_type": "markdown",
   "metadata": {},
   "source": [
    "For the additional questions that I will attempt to explore, I will focus on different intitial conditions of the system.  Toomre and Toomre's paper makes some assumptions about the characteristics of the galaxies and stars, so I want to find out what happens when I change those assumptions and use different initial conditions.  The following table illustrates the initial conditions that I could change:"
   ]
  },
  {
   "cell_type": "markdown",
   "metadata": {
    "collapsed": true
   },
   "source": [
    "<table>\n",
    "<tr><th> Type</th><th>Position $X$</th><th>Position $Z$</th><th>Velocity $V$</th><th>Velocity $W$</th><th> Eccentricity $\\epsilon_s$</th><th> Mass ratio $S/M$</th></tr>\n",
    "<tr><td>S1+</td><td>1</td><td>0</td><td>&gt; 0</td><td>0</td><td>1</td><td>1</td></tr>\n",
    "<tr><td>S1-</td><td>1</td><td>0</td><td>&lt; 0</td><td>0</td><td>1</td><td>1</td></tr>\n",
    "<tr><td>S2+</td><td>1</td><td>0</td><td>&gt; 0</td><td>0</td><td>7</td><td>1</td></tr>\n",
    "<tr><td>S2-</td><td>1</td><td>0</td><td>&lt; 0</td><td>0</td><td>7</td><td>1</td></tr>\n",
    "<tr><td>S3+</td><td>1</td><td>0</td><td>&gt; 0</td><td>0</td><td>31</td><td>3</td></tr>\n",
    "<tr><td>S3-</td><td>1</td><td>0</td><td>&lt; 0</td><td>0</td><td>31</td><td>3</td></tr>\n",
    "<tr><td>S4</td><td>1</td><td>0</td><td>0</td><td>&gt; 0</td><td>31</td><td>3</td></tr>\n",
    "<tr><td>S5</td><td>1</td><td>0</td><td>0</td><td>&gt; 0</td><td>1</td><td>1</td></tr>\n",
    "<tr><td>S6</td><td>0</td><td>1</td><td>&gt; 0</td><td>0</td><td>31</td><td>3</td></tr>\n",
    "<tr><td>S7</td><td>0</td><td>1</td><td>&gt; 0</td><td>0</td><td>1</td><td>1</td></tr>\n",
    "</table>\n"
   ]
  },
  {
   "cell_type": "markdown",
   "metadata": {},
   "source": [
    "where $X$ and $Z$ are the positions of the apex of the path followed by $S$, $V$ and $W$ are the $X$ and $Z$ velocities of $S$ at the apex of the path, eccentricity determines the path of $S$, and the mass ratio determines if $S$ is heavier or the same as $M$ "
   ]
  },
  {
   "cell_type": "markdown",
   "metadata": {},
   "source": [
    "For my additional questions, I will pick two different variations of the retrograde case.  The variable I chose to change was the assumed mass of $M$ and $S$.  The first will be the base question except the Mass ratio will be $\\frac{1}{3}$.  The second will be the base question revisited with a different Mass ratio of $3$."
   ]
  },
  {
   "cell_type": "code",
   "execution_count": null,
   "metadata": {
    "collapsed": true
   },
   "outputs": [],
   "source": []
  }
 ],
 "metadata": {
  "kernelspec": {
   "display_name": "Python 3",
   "language": "python",
   "name": "python3"
  },
  "language_info": {
   "codemirror_mode": {
    "name": "ipython",
    "version": 3
   },
   "file_extension": ".py",
   "mimetype": "text/x-python",
   "name": "python",
   "nbconvert_exporter": "python",
   "pygments_lexer": "ipython3",
   "version": "3.4.0"
  }
 },
 "nbformat": 4,
 "nbformat_minor": 0
}
