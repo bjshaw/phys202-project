{
 "cells": [
  {
   "cell_type": "markdown",
   "metadata": {},
   "source": [
    "##Units"
   ]
  },
  {
   "cell_type": "markdown",
   "metadata": {},
   "source": [
    "With regards to Toomre and Toomre's original paper, the units of measurement that will be used in all calculations will be as follow:"
   ]
  },
  {
   "cell_type": "markdown",
   "metadata": {},
   "source": [
    "distance -- kiloparsec, where $1 \\hspace{2 mm} kpc = 3.08567758e19 \\hspace{2 mm} m$"
   ]
  },
  {
   "cell_type": "markdown",
   "metadata": {},
   "source": [
    "time -- years, where $1 \\hspace{2 mm} billion \\hspace{1 mm}yr = 3.1556926e16 \\hspace{2 mm} s$"
   ]
  },
  {
   "cell_type": "markdown",
   "metadata": {},
   "source": [
    "mass -- solar mass, where $1 \\hspace{2 mm} M_{\\odot} = 1.9891e30 \\hspace{2 mm}kg$"
   ]
  },
  {
   "cell_type": "markdown",
   "metadata": {},
   "source": [
    "To have these units work in the equations given, the gravitational constant gamma will also have to be converted:"
   ]
  },
  {
   "cell_type": "markdown",
   "metadata": {},
   "source": [
    "$\\gamma = 6.67384e\\text{-}11 \\hspace{1 mm} \\frac{m^{3}}{kg\\cdot s^{2}}\\left(\\frac{kpc\n",
    "}{3.08567758e19\\hspace{1 mm}m}\\right)^{3}\\left(\\frac{1.9891e30\\hspace{1 mm}kg}{M_{\\odot}}\\right)\\left(\\frac{3.1556926e16\\hspace{1 mm}s}{billion \\hspace{1 mm}yr}\\right)^{2} = 4.4983169634398596e\\text{-}06\\frac{kpc^{3}}{M_{\\odot}\\cdot billion \\hspace{1 mm} yr^{2}}$"
   ]
  },
  {
   "cell_type": "code",
   "execution_count": 1,
   "metadata": {
    "collapsed": false
   },
   "outputs": [
    {
     "data": {
      "text/plain": [
       "4.4983169634398596e-06"
      ]
     },
     "execution_count": 1,
     "metadata": {},
     "output_type": "execute_result"
    }
   ],
   "source": [
    "6.67384e-11*(1/3.08567758e19)**3*(1.98855e30)*(3.1556926e16)**2"
   ]
  }
 ],
 "metadata": {
  "kernelspec": {
   "display_name": "Python 3",
   "language": "python",
   "name": "python3"
  },
  "language_info": {
   "codemirror_mode": {
    "name": "ipython",
    "version": 3
   },
   "file_extension": ".py",
   "mimetype": "text/x-python",
   "name": "python",
   "nbconvert_exporter": "python",
   "pygments_lexer": "ipython3",
   "version": "3.4.0"
  }
 },
 "nbformat": 4,
 "nbformat_minor": 0
}
