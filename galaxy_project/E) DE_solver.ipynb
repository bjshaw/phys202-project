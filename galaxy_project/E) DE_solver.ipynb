{
 "cells": [
  {
   "cell_type": "markdown",
   "metadata": {},
   "source": [
    "#Solving the differential equations"
   ]
  },
  {
   "cell_type": "code",
   "execution_count": 2,
   "metadata": {
    "collapsed": false
   },
   "outputs": [],
   "source": [
    "%matplotlib inline\n",
    "import matplotlib.pyplot as plt\n",
    "import numpy as np\n",
    "from scipy.integrate import odeint"
   ]
  },
  {
   "cell_type": "markdown",
   "metadata": {},
   "source": [
    "Solving the two differential equations given:"
   ]
  },
  {
   "cell_type": "markdown",
   "metadata": {},
   "source": [
    "$$ \\ddot{\\mathbf{r}} = -\\gamma \\left\\{ \\frac{M}{r^3}\\mathbf{r} -\\frac{S}{\\rho^3}\\boldsymbol{\\rho} + \\frac{S}{R^3}\\boldsymbol\\Re \\right\\} $$\n",
    "\n",
    "$$ \\ddot{\\boldsymbol\\Re} = -\\gamma \\frac{M+S}{R^3}\\boldsymbol\\Re$$"
   ]
  },
  {
   "cell_type": "markdown",
   "metadata": {},
   "source": [
    "* $\\gamma$ is the Gravitational constant.\n",
    "* $M$ is the central mass of the main galaxy and $S$ is the central mass of the disrupting galaxy\n",
    "* $\\mathbf{r}$ is the radius vector from mass $M$ to massless point particle $m$, representing a single (massless) star in the outer disk of the main galaxy.\n",
    "* $\\boldsymbol\\Re$ is the radius vector from $M$ to $S$\n",
    "* $\\boldsymbol{\\rho} = \\boldsymbol{\\Re} - \\boldsymbol{r}$"
   ]
  },
  {
   "cell_type": "code",
   "execution_count": 3,
   "metadata": {
    "collapsed": true
   },
   "outputs": [],
   "source": [
    "gamma = 4.4983169634398596e-06"
   ]
  },
  {
   "cell_type": "markdown",
   "metadata": {},
   "source": [
    "To solve these, I first define a derivative function:"
   ]
  },
  {
   "cell_type": "code",
   "execution_count": 4,
   "metadata": {
    "collapsed": true
   },
   "outputs": [],
   "source": [
    "def derivs(solarray, t, M, S):\n",
    "    \"\"\"Computes the derivatives of the equations dictating the behavior of the stars orbiting galaxy M and the\n",
    "    disrupting galaxy, S\n",
    "    \n",
    "    Parameters\n",
    "    --------------\n",
    "    solarray : solution array for the differential equations\n",
    "    t : array of time values\n",
    "    M : central mass of main galaxy\n",
    "    S : central mass of disrupting galaxy\n",
    "    \n",
    "    Returns\n",
    "    --------------\n",
    "    derivarray : an array of the velocities and accelerations of galaxy S and stars, m\n",
    "    \n",
    "    \"\"\"\n",
    "    \n",
    "    derivarray = np.zeros(len(solarray))\n",
    "    \n",
    "    R_x = solarray[0]\n",
    "    R_y = solarray[1]\n",
    "    R = np.sqrt(solarray[0]**2+solarray[1]**2)\n",
    "    vR_x = solarray[2]\n",
    "    vR_y = solarray[3]\n",
    "    dR_x = vR_x\n",
    "    dR_y = vR_y\n",
    "    dvR_x = ((-gamma*(M+S)*R_x)/R**3)\n",
    "    dvR_y = ((-gamma*(M+S)*R_y)/R**3)\n",
    "\n",
    "    derivarray[0] = dR_x\n",
    "    derivarray[1] = dR_y\n",
    "    derivarray[2] = dvR_x\n",
    "    derivarray[3] = dvR_y\n",
    "    \n",
    "    for n in range(1,int(len(solarray)/4)):\n",
    "        r_x = solarray[4*n]\n",
    "        r_y = solarray[4*n+1]\n",
    "        r = np.sqrt(r_x**2+r_y**2)\n",
    "        vr_x = solarray[4*n+2]\n",
    "        vr_y = solarray[4*n+3]\n",
    "        p_x = R_x - r_x\n",
    "        p_y = R_y - r_y\n",
    "        p = np.sqrt(p_x**2+p_y**2)\n",
    "        dr_x = vr_x\n",
    "        dr_y = vr_y\n",
    "        dvr_x = -gamma*((M/r**3)*r_x-(S/p**3)*p_x+(S/R**3)*R_x)\n",
    "        dvr_y = -gamma*((M/r**3)*r_y-(S/p**3)*p_y+(S/R**3)*R_y)\n",
    "\n",
    "        derivarray[4*n] = dr_x\n",
    "        derivarray[4*n+1] = dr_y\n",
    "        derivarray[4*n+2] = dvr_x\n",
    "        derivarray[4*n+3] = dvr_y\n",
    "    \n",
    "    return derivarray\n",
    "    "
   ]
  },
  {
   "cell_type": "code",
   "execution_count": 5,
   "metadata": {
    "collapsed": false
   },
   "outputs": [],
   "source": [
    "a = derivs([-24,70,200,-200,-3.5,3.5,-200,-200,-3.5,-3.5,200,-200],1,1e11,1e11)"
   ]
  },
  {
   "cell_type": "code",
   "execution_count": 23,
   "metadata": {
    "collapsed": false
   },
   "outputs": [],
   "source": [
    "assert(a.shape==(12,))\n",
    "assert(a.ndim==1)"
   ]
  },
  {
   "cell_type": "markdown",
   "metadata": {},
   "source": [
    "Then I use odeint to solve the equations"
   ]
  },
  {
   "cell_type": "code",
   "execution_count": 6,
   "metadata": {
    "collapsed": true
   },
   "outputs": [],
   "source": [
    "def equationsolver(ic,max_time,time_step,M,S):\n",
    "    \"\"\"Solves the differential equations using odeint and the derivs function defined above\n",
    "    \n",
    "    Parameters\n",
    "    -------------\n",
    "    ic : initial conditions\n",
    "    max_time : maximum time to be used for time array\n",
    "    time_step : step size of time array\n",
    "    M : central mass of main galaxy\n",
    "    S : central mass of disrupting galaxy\n",
    "    \n",
    "    Returns\n",
    "    ------------\n",
    "    sol : solution array for the differential equations\n",
    "    \"\"\"\n",
    "    t = np.linspace(0,max_time,time_step)\n",
    "    sol = odeint(derivs, ic, t, args=(M,S),atol=1e-3,rtol=1e-3)\n",
    "    return sol"
   ]
  },
  {
   "cell_type": "code",
   "execution_count": 7,
   "metadata": {
    "collapsed": false
   },
   "outputs": [],
   "source": [
    "b = equationsolver([-24,70,200,-200,-3.5,3.5,-200,-200,-3.5,-3.5,200,-200],1,100,1e11,1e11)"
   ]
  },
  {
   "cell_type": "code",
   "execution_count": 8,
   "metadata": {
    "collapsed": false
   },
   "outputs": [],
   "source": [
    "assert(b.shape==(100,12))\n",
    "assert(b.ndim==2)"
   ]
  },
  {
   "cell_type": "markdown",
   "metadata": {
    "collapsed": true
   },
   "source": [
    "In the end, I get a solution array in the form:"
   ]
  },
  {
   "cell_type": "markdown",
   "metadata": {},
   "source": [
    "$[X,Y,V_x,V_y,x_1,y_1,v_{1x},v_{1y},x_2,y_2,v_{2x},v_{2y},...,x_n,y_n,v_{nx},v_{ny}]$"
   ]
  }
 ],
 "metadata": {
  "kernelspec": {
   "display_name": "Python 3",
   "language": "python",
   "name": "python3"
  },
  "language_info": {
   "codemirror_mode": {
    "name": "ipython",
    "version": 3
   },
   "file_extension": ".py",
   "mimetype": "text/x-python",
   "name": "python",
   "nbconvert_exporter": "python",
   "pygments_lexer": "ipython3",
   "version": "3.4.0"
  }
 },
 "nbformat": 4,
 "nbformat_minor": 0
}
