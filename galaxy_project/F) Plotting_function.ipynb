{
 "cells": [
  {
   "cell_type": "code",
   "execution_count": 6,
   "metadata": {
    "collapsed": false
   },
   "outputs": [],
   "source": [
    "%matplotlib inline\n",
    "import matplotlib.pyplot as plt\n",
    "import numpy as np"
   ]
  },
  {
   "cell_type": "markdown",
   "metadata": {},
   "source": [
    "I also define a plotting function to use with the interact function to visualize the behavior of the stars when the disrupting galaxy orbits close to the main galaxy"
   ]
  },
  {
   "cell_type": "code",
   "execution_count": 7,
   "metadata": {
    "collapsed": true
   },
   "outputs": [],
   "source": [
    "def plotter(ic,sol,n=0):\n",
    "    \"\"\"Plots the positions of the stars and disrupting galaxy at each t in the time array\n",
    "    \n",
    "    Parameters\n",
    "    --------------\n",
    "    ic : initial conditions\n",
    "    sol : solution array\n",
    "    n : integer\n",
    "    \n",
    "    Returns\n",
    "    -------------\n",
    "    \"\"\"\n",
    "    plt.figure(figsize=(10,10))\n",
    "    \n",
    "    y = np.linspace(-150,150,100)\n",
    "    plt.plot(-.01*y**2+25,y,color='k',label='S path')\n",
    "    \n",
    "    plt.scatter(0,0,color='y',label='Galaxy M')\n",
    "    plt.scatter(sol[n][0],sol[n][1],color='b',label='Galaxy S')\n",
    "    for i in range(1,int(len(ic)/4)):\n",
    "        a = plt.scatter(sol[n][4*i],sol[n][4*i+1],color='r')\n",
    "    a.set_label('Star')\n",
    "    plt.legend()\n",
    "    plt.ylim(-50,50)\n",
    "    plt.xlim(-50,50)"
   ]
  },
  {
   "cell_type": "markdown",
   "metadata": {
    "collapsed": true
   },
   "source": [
    "Defining a plotting function that will help with plotting static images at certain times:"
   ]
  },
  {
   "cell_type": "code",
   "execution_count": 8,
   "metadata": {
    "collapsed": true
   },
   "outputs": [],
   "source": [
    "def static_plot(ic,sol,n=0):\n",
    "    \"\"\"Plots the positions of the stars and disrupting galaxy at a certain t in the time array\n",
    "    \n",
    "    Parameters\n",
    "    --------------\n",
    "    ic : initial conditions\n",
    "    sol : solution array\n",
    "    n : integer\n",
    "    \n",
    "    Returns\n",
    "    -------------\n",
    "    \"\"\"\n",
    "    \n",
    "    plt.scatter(0,0,color='y',label='Galaxy M')\n",
    "    plt.scatter(sol[n][0],sol[n][1],color='b',label='Galaxy S')\n",
    "    for i in range(1,int(len(ic)/4)):\n",
    "        a = plt.scatter(sol[n][4*i],sol[n][4*i+1],color='r')\n",
    "    plt.ylim(-50,50)\n",
    "    plt.xlim(-50,50)\n",
    "    plt.tick_params(right=False,left=False,top=False,bottom=False)\n",
    "    ax=plt.gca()\n",
    "    ax.spines['top'].set_visible(False)\n",
    "    ax.spines['bottom'].set_visible(False)\n",
    "    ax.spines['left'].set_visible(False)\n",
    "    ax.spines['right'].set_visible(False)\n",
    "    plt.tick_params(axis='x',labelbottom='off')\n",
    "    plt.tick_params(axis='y',labelleft='off')"
   ]
  },
  {
   "cell_type": "markdown",
   "metadata": {
    "collapsed": true
   },
   "source": [
    "Defining a plotting function that will help with plotting positions relative to the center of mass between the two galaxies:"
   ]
  },
  {
   "cell_type": "code",
   "execution_count": 9,
   "metadata": {
    "collapsed": true
   },
   "outputs": [],
   "source": [
    "def com_plot(ic,sol,M,S,n=0):\n",
    "    \"\"\"Plots the positions of the stars, main, and disrupting galaxy relative to the center of mass at a certain t in the time\n",
    "        array\n",
    "        \n",
    "    Parameters\n",
    "    ---------------\n",
    "    ic : initial condition\n",
    "    sol : solution array\n",
    "    M : mass of main galaxy\n",
    "    S : mass of disrupting galaxy\n",
    "    n : integer\n",
    "    \n",
    "    Returns\n",
    "    --------------\n",
    "    \"\"\"\n",
    "    plt.figure(figsize=(10,10))\n",
    "    \n",
    "    cm_x = (S*sol[n][0])/(M+S)\n",
    "    cm_y = (S*sol[n][1])/(M+S)\n",
    "    \n",
    "    plt.scatter(0,0,color='g',label='Center of Mass')\n",
    "    \n",
    "    plt.scatter(0-cm_x,0-cm_y,color='y',label='Galaxy M')\n",
    "    plt.scatter(sol[n][0]-cm_x,sol[n][1]-cm_y,color='b',label='Galaxy S')\n",
    "    for i in range(1,int(len(ic)/4)):\n",
    "        a = plt.scatter(sol[n][4*i]-cm_x,sol[n][4*i+1]-cm_y,color='r')\n",
    "    a.set_label('Star')\n",
    "    plt.legend()\n",
    "    plt.ylim(-100,100)\n",
    "    plt.xlim(-100,100)"
   ]
  },
  {
   "cell_type": "markdown",
   "metadata": {},
   "source": [
    "Static plotting function around center of mass:"
   ]
  },
  {
   "cell_type": "code",
   "execution_count": 10,
   "metadata": {
    "collapsed": true
   },
   "outputs": [],
   "source": [
    "def static_plot_com(ic,sol,M,S,n=0):\n",
    "    \"\"\"Plots the positions of the stars, main, and disrupting galaxy relative to the center of mass at a certain t in the time\n",
    "        array\n",
    "    Parameters\n",
    "    --------------\n",
    "    ic : initial conditions\n",
    "    sol : solution array\n",
    "    M : mass of main galaxy\n",
    "    S : mass of disrupting galaxy\n",
    "    n : integer\n",
    "    \n",
    "    Returns\n",
    "    -------------\n",
    "    \"\"\"\n",
    "    cm_x = (S*sol[n][0])/(M+S)\n",
    "    cm_y = (S*sol[n][1])/(M+S)\n",
    "    plt.scatter(0,0,color='g',label='Center of Mass')\n",
    "    plt.scatter(0-cm_x,0-cm_y,color='y',label='Galaxy M')\n",
    "    plt.scatter(sol[n][0]-cm_x,sol[n][1]-cm_y,color='b',label='Galaxy S')\n",
    "    for i in range(1,int(len(ic)/4)):\n",
    "        a = plt.scatter(sol[n][4*i]-cm_x,sol[n][4*i+1]-cm_y,color='r')\n",
    "    plt.ylim(-100,100)\n",
    "    plt.xlim(-100,100)\n",
    "    plt.tick_params(right=False,left=False,top=False,bottom=False)\n",
    "    ax=plt.gca()\n",
    "    ax.spines['top'].set_visible(False)\n",
    "    ax.spines['bottom'].set_visible(False)\n",
    "    ax.spines['left'].set_visible(False)\n",
    "    ax.spines['right'].set_visible(False)\n",
    "    plt.tick_params(axis='x',labelbottom='off')\n",
    "    plt.tick_params(axis='y',labelleft='off')"
   ]
  },
  {
   "cell_type": "code",
   "execution_count": null,
   "metadata": {
    "collapsed": true
   },
   "outputs": [],
   "source": []
  },
  {
   "cell_type": "code",
   "execution_count": null,
   "metadata": {
    "collapsed": true
   },
   "outputs": [],
   "source": []
  }
 ],
 "metadata": {
  "kernelspec": {
   "display_name": "Python 3",
   "language": "python",
   "name": "python3"
  },
  "language_info": {
   "codemirror_mode": {
    "name": "ipython",
    "version": 3
   },
   "file_extension": ".py",
   "mimetype": "text/x-python",
   "name": "python",
   "nbconvert_exporter": "python",
   "pygments_lexer": "ipython3",
   "version": "3.4.0"
  }
 },
 "nbformat": 4,
 "nbformat_minor": 0
}
