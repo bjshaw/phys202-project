{
 "cells": [
  {
   "cell_type": "markdown",
   "metadata": {},
   "source": [
    "#Two star test"
   ]
  },
  {
   "cell_type": "code",
   "execution_count": 1,
   "metadata": {
    "collapsed": false,
    "scrolled": true
   },
   "outputs": [
    {
     "name": "stderr",
     "output_type": "stream",
     "text": [
      ":0: FutureWarning: IPython widgets are experimental and may change in the future.\n"
     ]
    }
   ],
   "source": [
    "%matplotlib inline\n",
    "import matplotlib.pyplot as plt\n",
    "import numpy as np\n",
    "from scipy.integrate import odeint\n",
    "from IPython.html.widgets import interact, interactive, fixed"
   ]
  },
  {
   "cell_type": "code",
   "execution_count": 2,
   "metadata": {
    "collapsed": true
   },
   "outputs": [],
   "source": [
    "from plotting_function import plotter"
   ]
  },
  {
   "cell_type": "code",
   "execution_count": 3,
   "metadata": {
    "collapsed": false
   },
   "outputs": [],
   "source": [
    "from initial_velocities import velocities_m, velocities_S"
   ]
  },
  {
   "cell_type": "code",
   "execution_count": 4,
   "metadata": {
    "collapsed": true
   },
   "outputs": [],
   "source": [
    "from DE_solver import derivs, equationsolver"
   ]
  },
  {
   "cell_type": "markdown",
   "metadata": {},
   "source": [
    "Defining some test values for a simple two star system to check if everything was working correctly:"
   ]
  },
  {
   "cell_type": "code",
   "execution_count": 5,
   "metadata": {
    "collapsed": true
   },
   "outputs": [],
   "source": [
    "max_time_test = 1\n",
    "time_step_test = 80\n",
    "M_test = 1e11\n",
    "S_test = 1e11\n",
    "S_y_test = 70\n",
    "S_x_test = -.01*S_y_test**2+25\n",
    "m_x_test_1 = -3.53\n",
    "m_y_test_1 = 3.53\n",
    "m_x_test_2 = -3.53\n",
    "m_y_test_2 = -3.53"
   ]
  },
  {
   "cell_type": "code",
   "execution_count": 6,
   "metadata": {
    "collapsed": false
   },
   "outputs": [],
   "source": [
    "vxS_test = velocities_S(M_test,S_test,S_x_test,S_y_test)[0]\n",
    "vyS_test = velocities_S(M_test,S_test,S_x_test,S_y_test)[1]\n",
    "vxm_test_1 = velocities_m(M_test,m_x_test_1,m_y_test_1)[0]\n",
    "vym_test_1 = velocities_m(M_test,m_x_test_1,m_y_test_1)[1]\n",
    "vxm_test_2 = velocities_m(M_test,m_x_test_2,m_y_test_2)[0]\n",
    "vym_test_2 = velocities_m(M_test,m_x_test_2,m_y_test_2)[1]"
   ]
  },
  {
   "cell_type": "code",
   "execution_count": 7,
   "metadata": {
    "collapsed": false
   },
   "outputs": [],
   "source": [
    "ic_test = np.array([S_x_test,S_y_test,vxS_test,vyS_test,m_x_test_1,m_y_test_1,vxm_test_1,vym_test_1,\n",
    "                    m_x_test_2,m_y_test_2,vxm_test_2,vym_test_2])"
   ]
  },
  {
   "cell_type": "markdown",
   "metadata": {},
   "source": [
    "Using equationsolver to solve the DE's"
   ]
  },
  {
   "cell_type": "code",
   "execution_count": 8,
   "metadata": {
    "collapsed": false,
    "scrolled": true
   },
   "outputs": [],
   "source": [
    "sol_test = equationsolver(ic_test,max_time_test,time_step_test,M_test,S_test)"
   ]
  },
  {
   "cell_type": "markdown",
   "metadata": {},
   "source": [
    "Saving results and initial conditions to disk"
   ]
  },
  {
   "cell_type": "code",
   "execution_count": 9,
   "metadata": {
    "collapsed": true
   },
   "outputs": [],
   "source": [
    "np.savez('two_star_test_sol+ic.npz',sol_test,ic_test)"
   ]
  },
  {
   "cell_type": "code",
   "execution_count": null,
   "metadata": {
    "collapsed": true
   },
   "outputs": [],
   "source": []
  }
 ],
 "metadata": {
  "kernelspec": {
   "display_name": "Python 3",
   "language": "python",
   "name": "python3"
  },
  "language_info": {
   "codemirror_mode": {
    "name": "ipython",
    "version": 3
   },
   "file_extension": ".py",
   "mimetype": "text/x-python",
   "name": "python",
   "nbconvert_exporter": "python",
   "pygments_lexer": "ipython3",
   "version": "3.4.0"
  }
 },
 "nbformat": 4,
 "nbformat_minor": 0
}
