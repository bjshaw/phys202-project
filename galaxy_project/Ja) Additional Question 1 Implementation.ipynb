{
 "cells": [
  {
   "cell_type": "markdown",
   "metadata": {},
   "source": [
    "#Additional Question 1 Implementation"
   ]
  },
  {
   "cell_type": "markdown",
   "metadata": {},
   "source": [
    "My first additional question is basically my base question but with my disrupting galaxy's mass being a third of the main galaxy's."
   ]
  },
  {
   "cell_type": "code",
   "execution_count": 1,
   "metadata": {
    "collapsed": true
   },
   "outputs": [],
   "source": [
    "%matplotlib inline\n",
    "import matplotlib.pyplot as plt\n",
    "import numpy as np\n",
    "from scipy.integrate import odeint"
   ]
  },
  {
   "cell_type": "code",
   "execution_count": 2,
   "metadata": {
    "collapsed": true
   },
   "outputs": [],
   "source": [
    "from initial_velocities import velocities_m, velocities_S\n",
    "from DE_solver import derivs, equationsolver"
   ]
  },
  {
   "cell_type": "markdown",
   "metadata": {},
   "source": [
    "Defining empty initial condition array:"
   ]
  },
  {
   "cell_type": "code",
   "execution_count": 3,
   "metadata": {
    "collapsed": true
   },
   "outputs": [],
   "source": [
    "ic_add1 = np.zeros(484)"
   ]
  },
  {
   "cell_type": "markdown",
   "metadata": {},
   "source": [
    "Setting values for S,M, and t:"
   ]
  },
  {
   "cell_type": "code",
   "execution_count": 4,
   "metadata": {
    "collapsed": true
   },
   "outputs": [],
   "source": [
    "max_time_add1 = 1.5\n",
    "time_step_add1 = 120\n",
    "M_add1 = 1e11\n",
    "S_add1 = M_add1/3"
   ]
  },
  {
   "cell_type": "code",
   "execution_count": 5,
   "metadata": {
    "collapsed": false
   },
   "outputs": [],
   "source": [
    "S_y_add1 = 70\n",
    "S_x_add1 = -.01*S_y_add1**2+25\n",
    "vxS_add1 = velocities_S(M_add1,S_add1,S_x_add1,S_y_add1)[0]\n",
    "vyS_add1 = velocities_S(M_add1,S_add1,S_x_add1,S_y_add1)[1]"
   ]
  },
  {
   "cell_type": "markdown",
   "metadata": {},
   "source": [
    "Setting initial condition array values pertaining to S:"
   ]
  },
  {
   "cell_type": "code",
   "execution_count": 6,
   "metadata": {
    "collapsed": true
   },
   "outputs": [],
   "source": [
    "ic_add1[0] = S_x_add1\n",
    "ic_add1[1] = S_y_add1\n",
    "ic_add1[2] = vxS_add1\n",
    "ic_add1[3] = vyS_add1"
   ]
  },
  {
   "cell_type": "markdown",
   "metadata": {},
   "source": [
    "Loading the positions of my stars:"
   ]
  },
  {
   "cell_type": "code",
   "execution_count": 7,
   "metadata": {
    "collapsed": true
   },
   "outputs": [],
   "source": [
    "f = open('star_positions.npz','r')\n",
    "r = np.load('star_positions.npz')\n",
    "x_y = r['arr_0']\n",
    "f.close()"
   ]
  },
  {
   "cell_type": "markdown",
   "metadata": {},
   "source": [
    "Putting these values into my initial condition array, as well calling the initial velocity function on each position:"
   ]
  },
  {
   "cell_type": "code",
   "execution_count": 8,
   "metadata": {
    "collapsed": true
   },
   "outputs": [],
   "source": [
    "for i in range(0,120):\n",
    "    ic_add1[(i+1)*4] = x_y[0][i]\n",
    "    ic_add1[((i+1)*4)+1] = x_y[1][i] "
   ]
  },
  {
   "cell_type": "code",
   "execution_count": 9,
   "metadata": {
    "collapsed": true
   },
   "outputs": [],
   "source": [
    "for n in range(1,int(len(ic_add1)/4)):\n",
    "    ic_add1[n*4+2] = velocities_m(M_add1,ic_add1[n*4],ic_add1[n*4+1])[0]\n",
    "    ic_add1[n*4+3] = velocities_m(M_add1,ic_add1[n*4],ic_add1[n*4+1])[1]"
   ]
  },
  {
   "cell_type": "markdown",
   "metadata": {},
   "source": [
    "Calling my differential equation solver, and saving the data to disk:\n",
    "\n",
    "####Took 1 min and 7 sec last I timed it"
   ]
  },
  {
   "cell_type": "code",
   "execution_count": 57,
   "metadata": {
    "collapsed": false
   },
   "outputs": [],
   "source": [
    "sol_add1 = equationsolver(ic_add1,max_time_add1,time_step_add1,M_add1,S_add1)"
   ]
  },
  {
   "cell_type": "code",
   "execution_count": 58,
   "metadata": {
    "collapsed": true
   },
   "outputs": [],
   "source": [
    "np.savez('additional_1_data.npz',sol_add1,ic_add1)"
   ]
  },
  {
   "cell_type": "code",
   "execution_count": null,
   "metadata": {
    "collapsed": true
   },
   "outputs": [],
   "source": []
  }
 ],
 "metadata": {
  "kernelspec": {
   "display_name": "Python 3",
   "language": "python",
   "name": "python3"
  },
  "language_info": {
   "codemirror_mode": {
    "name": "ipython",
    "version": 3
   },
   "file_extension": ".py",
   "mimetype": "text/x-python",
   "name": "python",
   "nbconvert_exporter": "python",
   "pygments_lexer": "ipython3",
   "version": "3.4.0"
  }
 },
 "nbformat": 4,
 "nbformat_minor": 0
}
